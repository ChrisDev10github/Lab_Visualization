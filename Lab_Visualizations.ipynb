{
 "cells": [
  {
   "cell_type": "code",
   "execution_count": 2,
   "id": "20fb90f6",
   "metadata": {},
   "outputs": [],
   "source": [
    "import pandas as pd"
   ]
  },
  {
   "cell_type": "code",
   "execution_count": 3,
   "id": "88f288c6",
   "metadata": {},
   "outputs": [],
   "source": [
    "primary = pd.read_csv('API_primary.csv')\n",
    "secondary = pd.read_csv('API_secondary.csv')\n",
    "pmetadata = pd.read_csv('Metadata_primary.csv')\n",
    "smetadata = pd.read_csv('Metadata_secondary.csv')"
   ]
  },
  {
   "cell_type": "code",
   "execution_count": 55,
   "id": "e81dcbd2",
   "metadata": {},
   "outputs": [],
   "source": [
    "primarytotal = primary.merge(pmetadata,how='inner',on='Country Code')"
   ]
  },
  {
   "cell_type": "code",
   "execution_count": 7,
   "id": "8b1ecc39",
   "metadata": {},
   "outputs": [],
   "source": [
    "secondarytotal = secondary.merge(smetadata,how='inner',on='Country Code')"
   ]
  },
  {
   "cell_type": "code",
   "execution_count": 9,
   "id": "35585593",
   "metadata": {},
   "outputs": [
    {
     "name": "stdout",
     "output_type": "stream",
     "text": [
      "<class 'pandas.core.frame.DataFrame'>\n",
      "Int64Index: 265 entries, 0 to 264\n",
      "Data columns (total 70 columns):\n",
      " #   Column          Non-Null Count  Dtype  \n",
      "---  ------          --------------  -----  \n",
      " 0   Country Name    265 non-null    object \n",
      " 1   Country Code    265 non-null    object \n",
      " 2   Indicator Name  265 non-null    object \n",
      " 3   Indicator Code  265 non-null    object \n",
      " 4   1960            0 non-null      float64\n",
      " 5   1961            0 non-null      float64\n",
      " 6   1962            0 non-null      float64\n",
      " 7   1963            0 non-null      float64\n",
      " 8   1964            0 non-null      float64\n",
      " 9   1965            0 non-null      float64\n",
      " 10  1966            0 non-null      float64\n",
      " 11  1967            0 non-null      float64\n",
      " 12  1968            0 non-null      float64\n",
      " 13  1969            0 non-null      float64\n",
      " 14  1970            46 non-null     float64\n",
      " 15  1971            100 non-null    float64\n",
      " 16  1972            104 non-null    float64\n",
      " 17  1973            103 non-null    float64\n",
      " 18  1974            110 non-null    float64\n",
      " 19  1975            111 non-null    float64\n",
      " 20  1976            122 non-null    float64\n",
      " 21  1977            122 non-null    float64\n",
      " 22  1978            121 non-null    float64\n",
      " 23  1979            115 non-null    float64\n",
      " 24  1980            117 non-null    float64\n",
      " 25  1981            122 non-null    float64\n",
      " 26  1982            117 non-null    float64\n",
      " 27  1983            126 non-null    float64\n",
      " 28  1984            125 non-null    float64\n",
      " 29  1985            121 non-null    float64\n",
      " 30  1986            116 non-null    float64\n",
      " 31  1987            122 non-null    float64\n",
      " 32  1988            128 non-null    float64\n",
      " 33  1989            119 non-null    float64\n",
      " 34  1990            119 non-null    float64\n",
      " 35  1991            122 non-null    float64\n",
      " 36  1992            131 non-null    float64\n",
      " 37  1993            127 non-null    float64\n",
      " 38  1994            135 non-null    float64\n",
      " 39  1995            126 non-null    float64\n",
      " 40  1996            123 non-null    float64\n",
      " 41  1997            112 non-null    float64\n",
      " 42  1998            110 non-null    float64\n",
      " 43  1999            169 non-null    float64\n",
      " 44  2000            171 non-null    float64\n",
      " 45  2001            171 non-null    float64\n",
      " 46  2002            174 non-null    float64\n",
      " 47  2003            166 non-null    float64\n",
      " 48  2004            175 non-null    float64\n",
      " 49  2005            178 non-null    float64\n",
      " 50  2006            167 non-null    float64\n",
      " 51  2007            173 non-null    float64\n",
      " 52  2008            176 non-null    float64\n",
      " 53  2009            176 non-null    float64\n",
      " 54  2010            175 non-null    float64\n",
      " 55  2011            178 non-null    float64\n",
      " 56  2012            185 non-null    float64\n",
      " 57  2013            187 non-null    float64\n",
      " 58  2014            186 non-null    float64\n",
      " 59  2015            181 non-null    float64\n",
      " 60  2016            184 non-null    float64\n",
      " 61  2017            178 non-null    float64\n",
      " 62  2018            173 non-null    float64\n",
      " 63  2019            173 non-null    float64\n",
      " 64  2020            109 non-null    float64\n",
      " 65  Region          217 non-null    object \n",
      " 66  IncomeGroup     216 non-null    object \n",
      " 67  SpecialNotes    123 non-null    object \n",
      " 68  TableName       265 non-null    object \n",
      " 69  Unnamed: 5      0 non-null      float64\n",
      "dtypes: float64(62), object(8)\n",
      "memory usage: 147.0+ KB\n"
     ]
    }
   ],
   "source": [
    "primarytotal.info()"
   ]
  },
  {
   "cell_type": "code",
   "execution_count": 52,
   "id": "1e969452",
   "metadata": {},
   "outputs": [],
   "source": [
    "primarytotalworld = primarytotal[primarytotal['Country Code'] == 'WLD']"
   ]
  },
  {
   "cell_type": "code",
   "execution_count": 53,
   "id": "5fe6fb5f",
   "metadata": {},
   "outputs": [
    {
     "name": "stdout",
     "output_type": "stream",
     "text": [
      "<class 'pandas.core.frame.DataFrame'>\n",
      "Int64Index: 1 entries, 258 to 258\n",
      "Data columns (total 70 columns):\n",
      " #   Column          Non-Null Count  Dtype  \n",
      "---  ------          --------------  -----  \n",
      " 0   Country Name    1 non-null      object \n",
      " 1   Country Code    1 non-null      object \n",
      " 2   Indicator Name  1 non-null      object \n",
      " 3   Indicator Code  1 non-null      object \n",
      " 4   1960            0 non-null      float64\n",
      " 5   1961            0 non-null      float64\n",
      " 6   1962            0 non-null      float64\n",
      " 7   1963            0 non-null      float64\n",
      " 8   1964            0 non-null      float64\n",
      " 9   1965            0 non-null      float64\n",
      " 10  1966            0 non-null      float64\n",
      " 11  1967            0 non-null      float64\n",
      " 12  1968            0 non-null      float64\n",
      " 13  1969            0 non-null      float64\n",
      " 14  1970            1 non-null      float64\n",
      " 15  1971            1 non-null      float64\n",
      " 16  1972            1 non-null      float64\n",
      " 17  1973            1 non-null      float64\n",
      " 18  1974            1 non-null      float64\n",
      " 19  1975            1 non-null      float64\n",
      " 20  1976            1 non-null      float64\n",
      " 21  1977            1 non-null      float64\n",
      " 22  1978            1 non-null      float64\n",
      " 23  1979            1 non-null      float64\n",
      " 24  1980            1 non-null      float64\n",
      " 25  1981            1 non-null      float64\n",
      " 26  1982            1 non-null      float64\n",
      " 27  1983            1 non-null      float64\n",
      " 28  1984            1 non-null      float64\n",
      " 29  1985            1 non-null      float64\n",
      " 30  1986            1 non-null      float64\n",
      " 31  1987            1 non-null      float64\n",
      " 32  1988            1 non-null      float64\n",
      " 33  1989            1 non-null      float64\n",
      " 34  1990            1 non-null      float64\n",
      " 35  1991            1 non-null      float64\n",
      " 36  1992            1 non-null      float64\n",
      " 37  1993            1 non-null      float64\n",
      " 38  1994            1 non-null      float64\n",
      " 39  1995            1 non-null      float64\n",
      " 40  1996            1 non-null      float64\n",
      " 41  1997            1 non-null      float64\n",
      " 42  1998            1 non-null      float64\n",
      " 43  1999            1 non-null      float64\n",
      " 44  2000            1 non-null      float64\n",
      " 45  2001            1 non-null      float64\n",
      " 46  2002            1 non-null      float64\n",
      " 47  2003            1 non-null      float64\n",
      " 48  2004            1 non-null      float64\n",
      " 49  2005            1 non-null      float64\n",
      " 50  2006            1 non-null      float64\n",
      " 51  2007            1 non-null      float64\n",
      " 52  2008            1 non-null      float64\n",
      " 53  2009            1 non-null      float64\n",
      " 54  2010            1 non-null      float64\n",
      " 55  2011            1 non-null      float64\n",
      " 56  2012            1 non-null      float64\n",
      " 57  2013            1 non-null      float64\n",
      " 58  2014            1 non-null      float64\n",
      " 59  2015            1 non-null      float64\n",
      " 60  2016            1 non-null      float64\n",
      " 61  2017            1 non-null      float64\n",
      " 62  2018            1 non-null      float64\n",
      " 63  2019            1 non-null      float64\n",
      " 64  2020            1 non-null      float64\n",
      " 65  Region          0 non-null      object \n",
      " 66  IncomeGroup     0 non-null      object \n",
      " 67  SpecialNotes    1 non-null      object \n",
      " 68  TableName       1 non-null      object \n",
      " 69  Unnamed: 5      0 non-null      float64\n",
      "dtypes: float64(62), object(8)\n",
      "memory usage: 568.0+ bytes\n"
     ]
    }
   ],
   "source": [
    "primarytotalworld.info()"
   ]
  },
  {
   "cell_type": "code",
   "execution_count": 82,
   "id": "0775860d",
   "metadata": {
    "scrolled": true
   },
   "outputs": [
    {
     "name": "stdout",
     "output_type": "stream",
     "text": [
      "[258    81.950203\n",
      "Name: 2000, dtype: float64]\n",
      "[258    81.950203\n",
      "Name: 2000, dtype: float64, 258    82.760117\n",
      "Name: 2001, dtype: float64]\n",
      "[258    81.950203\n",
      "Name: 2000, dtype: float64, 258    82.760117\n",
      "Name: 2001, dtype: float64, 258    83.42852\n",
      "Name: 2002, dtype: float64]\n",
      "[258    81.950203\n",
      "Name: 2000, dtype: float64, 258    82.760117\n",
      "Name: 2001, dtype: float64, 258    83.42852\n",
      "Name: 2002, dtype: float64, 258    84.15937\n",
      "Name: 2003, dtype: float64]\n",
      "[258    81.950203\n",
      "Name: 2000, dtype: float64, 258    82.760117\n",
      "Name: 2001, dtype: float64, 258    83.42852\n",
      "Name: 2002, dtype: float64, 258    84.15937\n",
      "Name: 2003, dtype: float64, 258    84.687218\n",
      "Name: 2004, dtype: float64]\n",
      "[258    81.950203\n",
      "Name: 2000, dtype: float64, 258    82.760117\n",
      "Name: 2001, dtype: float64, 258    83.42852\n",
      "Name: 2002, dtype: float64, 258    84.15937\n",
      "Name: 2003, dtype: float64, 258    84.687218\n",
      "Name: 2004, dtype: float64, 258    85.47123\n",
      "Name: 2005, dtype: float64]\n",
      "[258    81.950203\n",
      "Name: 2000, dtype: float64, 258    82.760117\n",
      "Name: 2001, dtype: float64, 258    83.42852\n",
      "Name: 2002, dtype: float64, 258    84.15937\n",
      "Name: 2003, dtype: float64, 258    84.687218\n",
      "Name: 2004, dtype: float64, 258    85.47123\n",
      "Name: 2005, dtype: float64, 258    85.940086\n",
      "Name: 2006, dtype: float64]\n",
      "[258    81.950203\n",
      "Name: 2000, dtype: float64, 258    82.760117\n",
      "Name: 2001, dtype: float64, 258    83.42852\n",
      "Name: 2002, dtype: float64, 258    84.15937\n",
      "Name: 2003, dtype: float64, 258    84.687218\n",
      "Name: 2004, dtype: float64, 258    85.47123\n",
      "Name: 2005, dtype: float64, 258    85.940086\n",
      "Name: 2006, dtype: float64, 258    86.905579\n",
      "Name: 2007, dtype: float64]\n",
      "[258    81.950203\n",
      "Name: 2000, dtype: float64, 258    82.760117\n",
      "Name: 2001, dtype: float64, 258    83.42852\n",
      "Name: 2002, dtype: float64, 258    84.15937\n",
      "Name: 2003, dtype: float64, 258    84.687218\n",
      "Name: 2004, dtype: float64, 258    85.47123\n",
      "Name: 2005, dtype: float64, 258    85.940086\n",
      "Name: 2006, dtype: float64, 258    86.905579\n",
      "Name: 2007, dtype: float64, 258    88.458389\n",
      "Name: 2008, dtype: float64]\n",
      "[258    81.950203\n",
      "Name: 2000, dtype: float64, 258    82.760117\n",
      "Name: 2001, dtype: float64, 258    83.42852\n",
      "Name: 2002, dtype: float64, 258    84.15937\n",
      "Name: 2003, dtype: float64, 258    84.687218\n",
      "Name: 2004, dtype: float64, 258    85.47123\n",
      "Name: 2005, dtype: float64, 258    85.940086\n",
      "Name: 2006, dtype: float64, 258    86.905579\n",
      "Name: 2007, dtype: float64, 258    88.458389\n",
      "Name: 2008, dtype: float64, 258    89.154053\n",
      "Name: 2009, dtype: float64]\n",
      "[258    81.950203\n",
      "Name: 2000, dtype: float64, 258    82.760117\n",
      "Name: 2001, dtype: float64, 258    83.42852\n",
      "Name: 2002, dtype: float64, 258    84.15937\n",
      "Name: 2003, dtype: float64, 258    84.687218\n",
      "Name: 2004, dtype: float64, 258    85.47123\n",
      "Name: 2005, dtype: float64, 258    85.940086\n",
      "Name: 2006, dtype: float64, 258    86.905579\n",
      "Name: 2007, dtype: float64, 258    88.458389\n",
      "Name: 2008, dtype: float64, 258    89.154053\n",
      "Name: 2009, dtype: float64, 258    88.920067\n",
      "Name: 2010, dtype: float64]\n",
      "[258    81.950203\n",
      "Name: 2000, dtype: float64, 258    82.760117\n",
      "Name: 2001, dtype: float64, 258    83.42852\n",
      "Name: 2002, dtype: float64, 258    84.15937\n",
      "Name: 2003, dtype: float64, 258    84.687218\n",
      "Name: 2004, dtype: float64, 258    85.47123\n",
      "Name: 2005, dtype: float64, 258    85.940086\n",
      "Name: 2006, dtype: float64, 258    86.905579\n",
      "Name: 2007, dtype: float64, 258    88.458389\n",
      "Name: 2008, dtype: float64, 258    89.154053\n",
      "Name: 2009, dtype: float64, 258    88.920067\n",
      "Name: 2010, dtype: float64, 258    88.501739\n",
      "Name: 2011, dtype: float64]\n",
      "[258    81.950203\n",
      "Name: 2000, dtype: float64, 258    82.760117\n",
      "Name: 2001, dtype: float64, 258    83.42852\n",
      "Name: 2002, dtype: float64, 258    84.15937\n",
      "Name: 2003, dtype: float64, 258    84.687218\n",
      "Name: 2004, dtype: float64, 258    85.47123\n",
      "Name: 2005, dtype: float64, 258    85.940086\n",
      "Name: 2006, dtype: float64, 258    86.905579\n",
      "Name: 2007, dtype: float64, 258    88.458389\n",
      "Name: 2008, dtype: float64, 258    89.154053\n",
      "Name: 2009, dtype: float64, 258    88.920067\n",
      "Name: 2010, dtype: float64, 258    88.501739\n",
      "Name: 2011, dtype: float64, 258    89.244469\n",
      "Name: 2012, dtype: float64]\n",
      "[258    81.950203\n",
      "Name: 2000, dtype: float64, 258    82.760117\n",
      "Name: 2001, dtype: float64, 258    83.42852\n",
      "Name: 2002, dtype: float64, 258    84.15937\n",
      "Name: 2003, dtype: float64, 258    84.687218\n",
      "Name: 2004, dtype: float64, 258    85.47123\n",
      "Name: 2005, dtype: float64, 258    85.940086\n",
      "Name: 2006, dtype: float64, 258    86.905579\n",
      "Name: 2007, dtype: float64, 258    88.458389\n",
      "Name: 2008, dtype: float64, 258    89.154053\n",
      "Name: 2009, dtype: float64, 258    88.920067\n",
      "Name: 2010, dtype: float64, 258    88.501739\n",
      "Name: 2011, dtype: float64, 258    89.244469\n",
      "Name: 2012, dtype: float64, 258    89.30233\n",
      "Name: 2013, dtype: float64]\n",
      "[258    81.950203\n",
      "Name: 2000, dtype: float64, 258    82.760117\n",
      "Name: 2001, dtype: float64, 258    83.42852\n",
      "Name: 2002, dtype: float64, 258    84.15937\n",
      "Name: 2003, dtype: float64, 258    84.687218\n",
      "Name: 2004, dtype: float64, 258    85.47123\n",
      "Name: 2005, dtype: float64, 258    85.940086\n",
      "Name: 2006, dtype: float64, 258    86.905579\n",
      "Name: 2007, dtype: float64, 258    88.458389\n",
      "Name: 2008, dtype: float64, 258    89.154053\n",
      "Name: 2009, dtype: float64, 258    88.920067\n",
      "Name: 2010, dtype: float64, 258    88.501739\n",
      "Name: 2011, dtype: float64, 258    89.244469\n",
      "Name: 2012, dtype: float64, 258    89.30233\n",
      "Name: 2013, dtype: float64, 258    89.052261\n",
      "Name: 2014, dtype: float64]\n",
      "[258    81.950203\n",
      "Name: 2000, dtype: float64, 258    82.760117\n",
      "Name: 2001, dtype: float64, 258    83.42852\n",
      "Name: 2002, dtype: float64, 258    84.15937\n",
      "Name: 2003, dtype: float64, 258    84.687218\n",
      "Name: 2004, dtype: float64, 258    85.47123\n",
      "Name: 2005, dtype: float64, 258    85.940086\n",
      "Name: 2006, dtype: float64, 258    86.905579\n",
      "Name: 2007, dtype: float64, 258    88.458389\n",
      "Name: 2008, dtype: float64, 258    89.154053\n",
      "Name: 2009, dtype: float64, 258    88.920067\n",
      "Name: 2010, dtype: float64, 258    88.501739\n",
      "Name: 2011, dtype: float64, 258    89.244469\n",
      "Name: 2012, dtype: float64, 258    89.30233\n",
      "Name: 2013, dtype: float64, 258    89.052261\n",
      "Name: 2014, dtype: float64, 258    88.71566\n",
      "Name: 2015, dtype: float64]\n",
      "[258    81.950203\n",
      "Name: 2000, dtype: float64, 258    82.760117\n",
      "Name: 2001, dtype: float64, 258    83.42852\n",
      "Name: 2002, dtype: float64, 258    84.15937\n",
      "Name: 2003, dtype: float64, 258    84.687218\n",
      "Name: 2004, dtype: float64, 258    85.47123\n",
      "Name: 2005, dtype: float64, 258    85.940086\n",
      "Name: 2006, dtype: float64, 258    86.905579\n",
      "Name: 2007, dtype: float64, 258    88.458389\n",
      "Name: 2008, dtype: float64, 258    89.154053\n",
      "Name: 2009, dtype: float64, 258    88.920067\n",
      "Name: 2010, dtype: float64, 258    88.501739\n",
      "Name: 2011, dtype: float64, 258    89.244469\n",
      "Name: 2012, dtype: float64, 258    89.30233\n",
      "Name: 2013, dtype: float64, 258    89.052261\n",
      "Name: 2014, dtype: float64, 258    88.71566\n",
      "Name: 2015, dtype: float64, 258    88.904846\n",
      "Name: 2016, dtype: float64]\n",
      "[258    81.950203\n",
      "Name: 2000, dtype: float64, 258    82.760117\n",
      "Name: 2001, dtype: float64, 258    83.42852\n",
      "Name: 2002, dtype: float64, 258    84.15937\n",
      "Name: 2003, dtype: float64, 258    84.687218\n",
      "Name: 2004, dtype: float64, 258    85.47123\n",
      "Name: 2005, dtype: float64, 258    85.940086\n",
      "Name: 2006, dtype: float64, 258    86.905579\n",
      "Name: 2007, dtype: float64, 258    88.458389\n",
      "Name: 2008, dtype: float64, 258    89.154053\n",
      "Name: 2009, dtype: float64, 258    88.920067\n",
      "Name: 2010, dtype: float64, 258    88.501739\n",
      "Name: 2011, dtype: float64, 258    89.244469\n",
      "Name: 2012, dtype: float64, 258    89.30233\n",
      "Name: 2013, dtype: float64, 258    89.052261\n",
      "Name: 2014, dtype: float64, 258    88.71566\n",
      "Name: 2015, dtype: float64, 258    88.904846\n",
      "Name: 2016, dtype: float64, 258    89.162437\n",
      "Name: 2017, dtype: float64]\n",
      "[258    81.950203\n",
      "Name: 2000, dtype: float64, 258    82.760117\n",
      "Name: 2001, dtype: float64, 258    83.42852\n",
      "Name: 2002, dtype: float64, 258    84.15937\n",
      "Name: 2003, dtype: float64, 258    84.687218\n",
      "Name: 2004, dtype: float64, 258    85.47123\n",
      "Name: 2005, dtype: float64, 258    85.940086\n",
      "Name: 2006, dtype: float64, 258    86.905579\n",
      "Name: 2007, dtype: float64, 258    88.458389\n",
      "Name: 2008, dtype: float64, 258    89.154053\n",
      "Name: 2009, dtype: float64, 258    88.920067\n",
      "Name: 2010, dtype: float64, 258    88.501739\n",
      "Name: 2011, dtype: float64, 258    89.244469\n",
      "Name: 2012, dtype: float64, 258    89.30233\n",
      "Name: 2013, dtype: float64, 258    89.052261\n",
      "Name: 2014, dtype: float64, 258    88.71566\n",
      "Name: 2015, dtype: float64, 258    88.904846\n",
      "Name: 2016, dtype: float64, 258    89.162437\n",
      "Name: 2017, dtype: float64, 258    89.407341\n",
      "Name: 2018, dtype: float64]\n",
      "[258    81.950203\n",
      "Name: 2000, dtype: float64, 258    82.760117\n",
      "Name: 2001, dtype: float64, 258    83.42852\n",
      "Name: 2002, dtype: float64, 258    84.15937\n",
      "Name: 2003, dtype: float64, 258    84.687218\n",
      "Name: 2004, dtype: float64, 258    85.47123\n",
      "Name: 2005, dtype: float64, 258    85.940086\n",
      "Name: 2006, dtype: float64, 258    86.905579\n",
      "Name: 2007, dtype: float64, 258    88.458389\n",
      "Name: 2008, dtype: float64, 258    89.154053\n",
      "Name: 2009, dtype: float64, 258    88.920067\n",
      "Name: 2010, dtype: float64, 258    88.501739\n",
      "Name: 2011, dtype: float64, 258    89.244469\n",
      "Name: 2012, dtype: float64, 258    89.30233\n",
      "Name: 2013, dtype: float64, 258    89.052261\n",
      "Name: 2014, dtype: float64, 258    88.71566\n",
      "Name: 2015, dtype: float64, 258    88.904846\n",
      "Name: 2016, dtype: float64, 258    89.162437\n",
      "Name: 2017, dtype: float64, 258    89.407341\n",
      "Name: 2018, dtype: float64, 258    89.630142\n",
      "Name: 2019, dtype: float64]\n",
      "[258    81.950203\n",
      "Name: 2000, dtype: float64, 258    82.760117\n",
      "Name: 2001, dtype: float64, 258    83.42852\n",
      "Name: 2002, dtype: float64, 258    84.15937\n",
      "Name: 2003, dtype: float64, 258    84.687218\n",
      "Name: 2004, dtype: float64, 258    85.47123\n",
      "Name: 2005, dtype: float64, 258    85.940086\n",
      "Name: 2006, dtype: float64, 258    86.905579\n",
      "Name: 2007, dtype: float64, 258    88.458389\n",
      "Name: 2008, dtype: float64, 258    89.154053\n",
      "Name: 2009, dtype: float64, 258    88.920067\n",
      "Name: 2010, dtype: float64, 258    88.501739\n",
      "Name: 2011, dtype: float64, 258    89.244469\n",
      "Name: 2012, dtype: float64, 258    89.30233\n",
      "Name: 2013, dtype: float64, 258    89.052261\n",
      "Name: 2014, dtype: float64, 258    88.71566\n",
      "Name: 2015, dtype: float64, 258    88.904846\n",
      "Name: 2016, dtype: float64, 258    89.162437\n",
      "Name: 2017, dtype: float64, 258    89.407341\n",
      "Name: 2018, dtype: float64, 258    89.630142\n",
      "Name: 2019, dtype: float64, 258    90.140068\n",
      "Name: 2020, dtype: float64]\n",
      "<class 'pandas.core.series.Series'>\n"
     ]
    }
   ],
   "source": [
    "primaryworldtotal = primarytotal[primarytotal['Country Code'] == 'WLD']\n",
    "list=[]\n",
    "for i in range(2000,2021):\n",
    "    list.append(primaryworld[f'{i}'])\n",
    "    print(list)\n",
    "\n",
    "print(type(list[1]))\n",
    "\n",
    "\n"
   ]
  },
  {
   "cell_type": "code",
   "execution_count": 17,
   "id": "ecedde25",
   "metadata": {},
   "outputs": [
    {
     "name": "stdout",
     "output_type": "stream",
     "text": [
      "<class 'pandas.core.series.Series'>\n"
     ]
    }
   ],
   "source": [
    "print(type(list[1]))"
   ]
  },
  {
   "cell_type": "code",
   "execution_count": 29,
   "id": "20ec0019",
   "metadata": {},
   "outputs": [
    {
     "name": "stdout",
     "output_type": "stream",
     "text": [
      "            258\n",
      "2000  81.950203\n",
      "2001  82.760117\n",
      "2002  83.428520\n",
      "2003  84.159370\n",
      "2004  84.687218\n",
      "2005  85.471230\n",
      "2006  85.940086\n",
      "2007  86.905579\n",
      "2008  88.458389\n",
      "2009  89.154053\n",
      "2010  88.920067\n",
      "2011  88.501739\n",
      "2012  89.244469\n",
      "2013  89.302330\n",
      "2014  89.052261\n",
      "2015  88.715660\n",
      "2016  88.904846\n",
      "2017  89.162437\n",
      "2018  89.407341\n",
      "2019  89.630142\n",
      "2020  90.140068\n"
     ]
    }
   ],
   "source": [
    "#created dataframe for list (change to object dataframe) series to dataframe\n",
    "\n",
    "newlist=pd.DataFrame(list)\n",
    "print(newlist)\n"
   ]
  },
  {
   "cell_type": "code",
   "execution_count": 26,
   "id": "af94ac88",
   "metadata": {
    "scrolled": true
   },
   "outputs": [
    {
     "name": "stdout",
     "output_type": "stream",
     "text": [
      "<class 'pandas.core.frame.DataFrame'>\n"
     ]
    }
   ],
   "source": [
    "print(type(newlist))"
   ]
  },
  {
   "cell_type": "code",
   "execution_count": 31,
   "id": "5e28ecde",
   "metadata": {},
   "outputs": [
    {
     "data": {
      "text/plain": [
       "Int64Index([258], dtype='int64')"
      ]
     },
     "execution_count": 31,
     "metadata": {},
     "output_type": "execute_result"
    }
   ],
   "source": [
    "newlist.columns"
   ]
  },
  {
   "cell_type": "code",
   "execution_count": 65,
   "id": "a7cbcc7b",
   "metadata": {},
   "outputs": [
    {
     "data": {
      "image/png": "[encoded data removed]",
      "text/plain": [
       "<Figure size 432x288 with 1 Axes>"
      ]
     },
     "metadata": {
      "needs_background": "light"
     },
     "output_type": "display_data"
    }
   ],
   "source": [
    "#Question 1\n",
    "\n",
    "import matplotlib.pyplot as plt\n",
    "ax=newlist.plot.bar()\n",
    "plt.xlabel('year')\n",
    "plt.ylabel('Primary completion rate (% of relevant age group)')\n",
    "plt.ylim([80,95])     #y limit\n",
    "plt.title('Primary completion rate percentage based on year')\n",
    "\n",
    "ax.get_legend().remove()"
   ]
  },
  {
   "cell_type": "code",
   "execution_count": 79,
   "id": "67318c32",
   "metadata": {},
   "outputs": [
    {
     "name": "stdout",
     "output_type": "stream",
     "text": [
      "<class 'pandas.core.frame.DataFrame'>\n"
     ]
    }
   ],
   "source": [
    "#primarytotal is the merge\n",
    "#show different income levels\n",
    "\n",
    "\n",
    "pt50 = primarytotal.groupby('IncomeGroup')['2018'].describe().sort_values('50%')      #.sort_values('median'), sort_values only on dataframes\n",
    "print(type(pt50))\n",
    "ptmedian = pt50['50%']\n",
    "\n",
    "\n"
   ]
  },
  {
   "cell_type": "code",
   "execution_count": 80,
   "id": "7c0a8b39",
   "metadata": {},
   "outputs": [
    {
     "data": {
      "text/plain": [
       "Text(0.5, 1.0, 'primary completion rate by income level')"
      ]
     },
     "execution_count": 80,
     "metadata": {},
     "output_type": "execute_result"
    },
    {
     "data": {
      "image/png": "[encoded data removed]",
      "text/plain": [
       "<Figure size 432x288 with 1 Axes>"
      ]
     },
     "metadata": {
      "needs_background": "light"
     },
     "output_type": "display_data"
    }
   ],
   "source": [
    "#Question 2\n",
    "axpt=ptmedian.plot.bar()\n",
    "\n",
    "plt.ylabel('median primary completion rate (% of relevant age group)')\n",
    "plt.ylim([50,100])     #y limit\n",
    "plt.title('primary completion rate by income level')\n",
    "\n",
    "#ax.get_legend().remove()"
   ]
  },
  {
   "cell_type": "code",
   "execution_count": 77,
   "id": "b48ab6db",
   "metadata": {},
   "outputs": [
    {
     "name": "stdout",
     "output_type": "stream",
     "text": [
      "<class 'pandas.core.frame.DataFrame'>\n"
     ]
    }
   ],
   "source": [
    "st50 = secondarytotal.groupby('IncomeGroup')['2018'].describe().sort_values('50%')      #.sort_values('median'), sort_values only on dataframes\n",
    "#print(st50)\n",
    "print(type(st50))\n",
    "stmedian = st50['50%']\n"
   ]
  },
  {
   "cell_type": "code",
   "execution_count": 78,
   "id": "337d93ba",
   "metadata": {},
   "outputs": [
    {
     "data": {
      "text/plain": [
       "Text(0.5, 1.0, 'Secondary School Enrollment by income level')"
      ]
     },
     "execution_count": 78,
     "metadata": {},
     "output_type": "execute_result"
    },
    {
     "data": {
      "image/png": "[encoded data removed]",
      "text/plain": [
       "<Figure size 432x288 with 1 Axes>"
      ]
     },
     "metadata": {
      "needs_background": "light"
     },
     "output_type": "display_data"
    }
   ],
   "source": [
    "#Question 3\n",
    "axst=stmedian.plot.bar()\n",
    "\n",
    "plt.ylabel('median secondary school enrollment (%net)')\n",
    "plt.ylim([0,100])     #y limit\n",
    "plt.title('Secondary School Enrollment by income level')\n"
   ]
  },
  {
   "cell_type": "code",
   "execution_count": 87,
   "id": "6fa53a57",
   "metadata": {},
   "outputs": [
    {
     "name": "stdout",
     "output_type": "stream",
     "text": [
      "[258    54.93954\n",
      "Name: 2000, dtype: float64]\n",
      "[258    54.93954\n",
      "Name: 2000, dtype: float64, 258    55.54719\n",
      "Name: 2001, dtype: float64]\n",
      "[258    54.93954\n",
      "Name: 2000, dtype: float64, 258    55.54719\n",
      "Name: 2001, dtype: float64, 258    56.06077\n",
      "Name: 2002, dtype: float64]\n",
      "[258    54.93954\n",
      "Name: 2000, dtype: float64, 258    55.54719\n",
      "Name: 2001, dtype: float64, 258    56.06077\n",
      "Name: 2002, dtype: float64, 258    56.94918\n",
      "Name: 2003, dtype: float64]\n",
      "[258    54.93954\n",
      "Name: 2000, dtype: float64, 258    55.54719\n",
      "Name: 2001, dtype: float64, 258    56.06077\n",
      "Name: 2002, dtype: float64, 258    56.94918\n",
      "Name: 2003, dtype: float64, 258    57.81391\n",
      "Name: 2004, dtype: float64]\n",
      "[258    54.93954\n",
      "Name: 2000, dtype: float64, 258    55.54719\n",
      "Name: 2001, dtype: float64, 258    56.06077\n",
      "Name: 2002, dtype: float64, 258    56.94918\n",
      "Name: 2003, dtype: float64, 258    57.81391\n",
      "Name: 2004, dtype: float64, 258    58.49775\n",
      "Name: 2005, dtype: float64]\n",
      "[258    54.93954\n",
      "Name: 2000, dtype: float64, 258    55.54719\n",
      "Name: 2001, dtype: float64, 258    56.06077\n",
      "Name: 2002, dtype: float64, 258    56.94918\n",
      "Name: 2003, dtype: float64, 258    57.81391\n",
      "Name: 2004, dtype: float64, 258    58.49775\n",
      "Name: 2005, dtype: float64, 258    59.11553\n",
      "Name: 2006, dtype: float64]\n",
      "[258    54.93954\n",
      "Name: 2000, dtype: float64, 258    55.54719\n",
      "Name: 2001, dtype: float64, 258    56.06077\n",
      "Name: 2002, dtype: float64, 258    56.94918\n",
      "Name: 2003, dtype: float64, 258    57.81391\n",
      "Name: 2004, dtype: float64, 258    58.49775\n",
      "Name: 2005, dtype: float64, 258    59.11553\n",
      "Name: 2006, dtype: float64, 258    60.08915\n",
      "Name: 2007, dtype: float64]\n",
      "[258    54.93954\n",
      "Name: 2000, dtype: float64, 258    55.54719\n",
      "Name: 2001, dtype: float64, 258    56.06077\n",
      "Name: 2002, dtype: float64, 258    56.94918\n",
      "Name: 2003, dtype: float64, 258    57.81391\n",
      "Name: 2004, dtype: float64, 258    58.49775\n",
      "Name: 2005, dtype: float64, 258    59.11553\n",
      "Name: 2006, dtype: float64, 258    60.08915\n",
      "Name: 2007, dtype: float64, 258    60.84241\n",
      "Name: 2008, dtype: float64]\n",
      "[258    54.93954\n",
      "Name: 2000, dtype: float64, 258    55.54719\n",
      "Name: 2001, dtype: float64, 258    56.06077\n",
      "Name: 2002, dtype: float64, 258    56.94918\n",
      "Name: 2003, dtype: float64, 258    57.81391\n",
      "Name: 2004, dtype: float64, 258    58.49775\n",
      "Name: 2005, dtype: float64, 258    59.11553\n",
      "Name: 2006, dtype: float64, 258    60.08915\n",
      "Name: 2007, dtype: float64, 258    60.84241\n",
      "Name: 2008, dtype: float64, 258    61.3097\n",
      "Name: 2009, dtype: float64]\n",
      "[258    54.93954\n",
      "Name: 2000, dtype: float64, 258    55.54719\n",
      "Name: 2001, dtype: float64, 258    56.06077\n",
      "Name: 2002, dtype: float64, 258    56.94918\n",
      "Name: 2003, dtype: float64, 258    57.81391\n",
      "Name: 2004, dtype: float64, 258    58.49775\n",
      "Name: 2005, dtype: float64, 258    59.11553\n",
      "Name: 2006, dtype: float64, 258    60.08915\n",
      "Name: 2007, dtype: float64, 258    60.84241\n",
      "Name: 2008, dtype: float64, 258    61.3097\n",
      "Name: 2009, dtype: float64, 258    62.54485\n",
      "Name: 2010, dtype: float64]\n",
      "[258    54.93954\n",
      "Name: 2000, dtype: float64, 258    55.54719\n",
      "Name: 2001, dtype: float64, 258    56.06077\n",
      "Name: 2002, dtype: float64, 258    56.94918\n",
      "Name: 2003, dtype: float64, 258    57.81391\n",
      "Name: 2004, dtype: float64, 258    58.49775\n",
      "Name: 2005, dtype: float64, 258    59.11553\n",
      "Name: 2006, dtype: float64, 258    60.08915\n",
      "Name: 2007, dtype: float64, 258    60.84241\n",
      "Name: 2008, dtype: float64, 258    61.3097\n",
      "Name: 2009, dtype: float64, 258    62.54485\n",
      "Name: 2010, dtype: float64, 258    63.53369\n",
      "Name: 2011, dtype: float64]\n",
      "[258    54.93954\n",
      "Name: 2000, dtype: float64, 258    55.54719\n",
      "Name: 2001, dtype: float64, 258    56.06077\n",
      "Name: 2002, dtype: float64, 258    56.94918\n",
      "Name: 2003, dtype: float64, 258    57.81391\n",
      "Name: 2004, dtype: float64, 258    58.49775\n",
      "Name: 2005, dtype: float64, 258    59.11553\n",
      "Name: 2006, dtype: float64, 258    60.08915\n",
      "Name: 2007, dtype: float64, 258    60.84241\n",
      "Name: 2008, dtype: float64, 258    61.3097\n",
      "Name: 2009, dtype: float64, 258    62.54485\n",
      "Name: 2010, dtype: float64, 258    63.53369\n",
      "Name: 2011, dtype: float64, 258    63.79482\n",
      "Name: 2012, dtype: float64]\n",
      "[258    54.93954\n",
      "Name: 2000, dtype: float64, 258    55.54719\n",
      "Name: 2001, dtype: float64, 258    56.06077\n",
      "Name: 2002, dtype: float64, 258    56.94918\n",
      "Name: 2003, dtype: float64, 258    57.81391\n",
      "Name: 2004, dtype: float64, 258    58.49775\n",
      "Name: 2005, dtype: float64, 258    59.11553\n",
      "Name: 2006, dtype: float64, 258    60.08915\n",
      "Name: 2007, dtype: float64, 258    60.84241\n",
      "Name: 2008, dtype: float64, 258    61.3097\n",
      "Name: 2009, dtype: float64, 258    62.54485\n",
      "Name: 2010, dtype: float64, 258    63.53369\n",
      "Name: 2011, dtype: float64, 258    63.79482\n",
      "Name: 2012, dtype: float64, 258    64.8996\n",
      "Name: 2013, dtype: float64]\n",
      "[258    54.93954\n",
      "Name: 2000, dtype: float64, 258    55.54719\n",
      "Name: 2001, dtype: float64, 258    56.06077\n",
      "Name: 2002, dtype: float64, 258    56.94918\n",
      "Name: 2003, dtype: float64, 258    57.81391\n",
      "Name: 2004, dtype: float64, 258    58.49775\n",
      "Name: 2005, dtype: float64, 258    59.11553\n",
      "Name: 2006, dtype: float64, 258    60.08915\n",
      "Name: 2007, dtype: float64, 258    60.84241\n",
      "Name: 2008, dtype: float64, 258    61.3097\n",
      "Name: 2009, dtype: float64, 258    62.54485\n",
      "Name: 2010, dtype: float64, 258    63.53369\n",
      "Name: 2011, dtype: float64, 258    63.79482\n",
      "Name: 2012, dtype: float64, 258    64.8996\n",
      "Name: 2013, dtype: float64, 258    65.64805\n",
      "Name: 2014, dtype: float64]\n",
      "[258    54.93954\n",
      "Name: 2000, dtype: float64, 258    55.54719\n",
      "Name: 2001, dtype: float64, 258    56.06077\n",
      "Name: 2002, dtype: float64, 258    56.94918\n",
      "Name: 2003, dtype: float64, 258    57.81391\n",
      "Name: 2004, dtype: float64, 258    58.49775\n",
      "Name: 2005, dtype: float64, 258    59.11553\n",
      "Name: 2006, dtype: float64, 258    60.08915\n",
      "Name: 2007, dtype: float64, 258    60.84241\n",
      "Name: 2008, dtype: float64, 258    61.3097\n",
      "Name: 2009, dtype: float64, 258    62.54485\n",
      "Name: 2010, dtype: float64, 258    63.53369\n",
      "Name: 2011, dtype: float64, 258    63.79482\n",
      "Name: 2012, dtype: float64, 258    64.8996\n",
      "Name: 2013, dtype: float64, 258    65.64805\n",
      "Name: 2014, dtype: float64, 258    65.71337\n",
      "Name: 2015, dtype: float64]\n",
      "[258    54.93954\n",
      "Name: 2000, dtype: float64, 258    55.54719\n",
      "Name: 2001, dtype: float64, 258    56.06077\n",
      "Name: 2002, dtype: float64, 258    56.94918\n",
      "Name: 2003, dtype: float64, 258    57.81391\n",
      "Name: 2004, dtype: float64, 258    58.49775\n",
      "Name: 2005, dtype: float64, 258    59.11553\n",
      "Name: 2006, dtype: float64, 258    60.08915\n",
      "Name: 2007, dtype: float64, 258    60.84241\n",
      "Name: 2008, dtype: float64, 258    61.3097\n",
      "Name: 2009, dtype: float64, 258    62.54485\n",
      "Name: 2010, dtype: float64, 258    63.53369\n",
      "Name: 2011, dtype: float64, 258    63.79482\n",
      "Name: 2012, dtype: float64, 258    64.8996\n",
      "Name: 2013, dtype: float64, 258    65.64805\n",
      "Name: 2014, dtype: float64, 258    65.71337\n",
      "Name: 2015, dtype: float64, 258    65.82859\n",
      "Name: 2016, dtype: float64]\n",
      "[258    54.93954\n",
      "Name: 2000, dtype: float64, 258    55.54719\n",
      "Name: 2001, dtype: float64, 258    56.06077\n",
      "Name: 2002, dtype: float64, 258    56.94918\n",
      "Name: 2003, dtype: float64, 258    57.81391\n",
      "Name: 2004, dtype: float64, 258    58.49775\n",
      "Name: 2005, dtype: float64, 258    59.11553\n",
      "Name: 2006, dtype: float64, 258    60.08915\n",
      "Name: 2007, dtype: float64, 258    60.84241\n",
      "Name: 2008, dtype: float64, 258    61.3097\n",
      "Name: 2009, dtype: float64, 258    62.54485\n",
      "Name: 2010, dtype: float64, 258    63.53369\n",
      "Name: 2011, dtype: float64, 258    63.79482\n",
      "Name: 2012, dtype: float64, 258    64.8996\n",
      "Name: 2013, dtype: float64, 258    65.64805\n",
      "Name: 2014, dtype: float64, 258    65.71337\n",
      "Name: 2015, dtype: float64, 258    65.82859\n",
      "Name: 2016, dtype: float64, 258    66.19644\n",
      "Name: 2017, dtype: float64]\n",
      "[258    54.93954\n",
      "Name: 2000, dtype: float64, 258    55.54719\n",
      "Name: 2001, dtype: float64, 258    56.06077\n",
      "Name: 2002, dtype: float64, 258    56.94918\n",
      "Name: 2003, dtype: float64, 258    57.81391\n",
      "Name: 2004, dtype: float64, 258    58.49775\n",
      "Name: 2005, dtype: float64, 258    59.11553\n",
      "Name: 2006, dtype: float64, 258    60.08915\n",
      "Name: 2007, dtype: float64, 258    60.84241\n",
      "Name: 2008, dtype: float64, 258    61.3097\n",
      "Name: 2009, dtype: float64, 258    62.54485\n",
      "Name: 2010, dtype: float64, 258    63.53369\n",
      "Name: 2011, dtype: float64, 258    63.79482\n",
      "Name: 2012, dtype: float64, 258    64.8996\n",
      "Name: 2013, dtype: float64, 258    65.64805\n",
      "Name: 2014, dtype: float64, 258    65.71337\n",
      "Name: 2015, dtype: float64, 258    65.82859\n",
      "Name: 2016, dtype: float64, 258    66.19644\n",
      "Name: 2017, dtype: float64, 258    66.27183\n",
      "Name: 2018, dtype: float64]\n"
     ]
    }
   ],
   "source": [
    "psworldtotal = secondarytotal[secondarytotal['Country Code'] == 'WLD']\n",
    "list2=[]\n",
    "for i in range(2000,2019):\n",
    "    list2.append(psworldtotal[f'{i}'])\n",
    "    print(list2)"
   ]
  },
  {
   "cell_type": "code",
   "execution_count": 88,
   "id": "d5462202",
   "metadata": {},
   "outputs": [
    {
     "name": "stdout",
     "output_type": "stream",
     "text": [
      "           258\n",
      "2000  54.93954\n",
      "2001  55.54719\n",
      "2002  56.06077\n",
      "2003  56.94918\n",
      "2004  57.81391\n",
      "2005  58.49775\n",
      "2006  59.11553\n",
      "2007  60.08915\n",
      "2008  60.84241\n",
      "2009  61.30970\n",
      "2010  62.54485\n",
      "2011  63.53369\n",
      "2012  63.79482\n",
      "2013  64.89960\n",
      "2014  65.64805\n",
      "2015  65.71337\n",
      "2016  65.82859\n",
      "2017  66.19644\n",
      "2018  66.27183\n"
     ]
    }
   ],
   "source": [
    "newlist2=pd.DataFrame(list2)     #Data frame version for the values by year\n",
    "print(newlist2)\n"
   ]
  },
  {
   "cell_type": "code",
   "execution_count": 93,
   "id": "3b743d92",
   "metadata": {},
   "outputs": [
    {
     "data": {
      "text/plain": [
       "Index(['2000', '2001', '2002', '2003', '2004', '2005', '2006', '2007', '2008',\n",
       "       '2009', '2010', '2011', '2012', '2013', '2014', '2015', '2016', '2017',\n",
       "       '2018'],\n",
       "      dtype='object')"
      ]
     },
     "execution_count": 93,
     "metadata": {},
     "output_type": "execute_result"
    }
   ],
   "source": [
    "newlist2.index"
   ]
  },
  {
   "cell_type": "code",
   "execution_count": 95,
   "id": "fff7558d",
   "metadata": {},
   "outputs": [
    {
     "name": "stdout",
     "output_type": "stream",
     "text": [
      "           258  Year\n",
      "2000  54.93954  2000\n",
      "2001  55.54719  2001\n",
      "2002  56.06077  2002\n",
      "2003  56.94918  2003\n",
      "2004  57.81391  2004\n",
      "2005  58.49775  2005\n",
      "2006  59.11553  2006\n",
      "2007  60.08915  2007\n",
      "2008  60.84241  2008\n",
      "2009  61.30970  2009\n",
      "2010  62.54485  2010\n",
      "2011  63.53369  2011\n",
      "2012  63.79482  2012\n",
      "2013  64.89960  2013\n",
      "2014  65.64805  2014\n",
      "2015  65.71337  2015\n",
      "2016  65.82859  2016\n",
      "2017  66.19644  2017\n",
      "2018  66.27183  2018\n"
     ]
    }
   ],
   "source": [
    "newlist2['Year']=newlist2.index    #create newcolumn for the years\n",
    "print(newlist2)"
   ]
  },
  {
   "cell_type": "code",
   "execution_count": 96,
   "id": "ca5569af",
   "metadata": {},
   "outputs": [
    {
     "name": "stdout",
     "output_type": "stream",
     "text": [
      "            258  Year\n",
      "2000  81.950203  2000\n",
      "2001  82.760117  2001\n",
      "2002  83.428520  2002\n",
      "2003  84.159370  2003\n",
      "2004  84.687218  2004\n",
      "2005  85.471230  2005\n",
      "2006  85.940086  2006\n",
      "2007  86.905579  2007\n",
      "2008  88.458389  2008\n",
      "2009  89.154053  2009\n",
      "2010  88.920067  2010\n",
      "2011  88.501739  2011\n",
      "2012  89.244469  2012\n",
      "2013  89.302330  2013\n",
      "2014  89.052261  2014\n",
      "2015  88.715660  2015\n",
      "2016  88.904846  2016\n",
      "2017  89.162437  2017\n",
      "2018  89.407341  2018\n",
      "2019  89.630142  2019\n",
      "2020  90.140068  2020\n"
     ]
    }
   ],
   "source": [
    "newlist['Year']=newlist.index\n",
    "print(newlist)"
   ]
  },
  {
   "cell_type": "code",
   "execution_count": 101,
   "id": "f0306347",
   "metadata": {},
   "outputs": [
    {
     "name": "stdout",
     "output_type": "stream",
     "text": [
      "    PrimaryCompletion  Year  SecondaryEnrollment\n",
      "0           81.950203  2000             54.93954\n",
      "1           82.760117  2001             55.54719\n",
      "2           83.428520  2002             56.06077\n",
      "3           84.159370  2003             56.94918\n",
      "4           84.687218  2004             57.81391\n",
      "5           85.471230  2005             58.49775\n",
      "6           85.940086  2006             59.11553\n",
      "7           86.905579  2007             60.08915\n",
      "8           88.458389  2008             60.84241\n",
      "9           89.154053  2009             61.30970\n",
      "10          88.920067  2010             62.54485\n",
      "11          88.501739  2011             63.53369\n",
      "12          89.244469  2012             63.79482\n",
      "13          89.302330  2013             64.89960\n",
      "14          89.052261  2014             65.64805\n",
      "15          88.715660  2015             65.71337\n",
      "16          88.904846  2016             65.82859\n",
      "17          89.162437  2017             66.19644\n",
      "18          89.407341  2018             66.27183\n"
     ]
    }
   ],
   "source": [
    "thefinallist = newlist.merge(newlist2,how='inner',on='Year')\n",
    "thefinallist.rename(columns={\"258_x\":\"PrimaryCompletion\",\"258_y\":\"SecondaryEnrollment\"},inplace=True)\n",
    "print(thefinallist)"
   ]
  },
  {
   "cell_type": "code",
   "execution_count": 104,
   "id": "2d7d4164",
   "metadata": {},
   "outputs": [
    {
     "name": "stdout",
     "output_type": "stream",
     "text": [
      "    PrimaryCompletion  SecondaryEnrollment\n",
      "0           81.950203             54.93954\n",
      "1           82.760117             55.54719\n",
      "2           83.428520             56.06077\n",
      "3           84.159370             56.94918\n",
      "4           84.687218             57.81391\n",
      "5           85.471230             58.49775\n",
      "6           85.940086             59.11553\n",
      "7           86.905579             60.08915\n",
      "8           88.458389             60.84241\n",
      "9           89.154053             61.30970\n",
      "10          88.920067             62.54485\n",
      "11          88.501739             63.53369\n",
      "12          89.244469             63.79482\n",
      "13          89.302330             64.89960\n",
      "14          89.052261             65.64805\n",
      "15          88.715660             65.71337\n",
      "16          88.904846             65.82859\n",
      "17          89.162437             66.19644\n",
      "18          89.407341             66.27183\n"
     ]
    }
   ],
   "source": [
    "theactualfinalfinallist = thefinallist[['PrimaryCompletion','SecondaryEnrollment']]\n",
    "print(theactualfinalfinallist)"
   ]
  },
  {
   "cell_type": "code",
   "execution_count": 111,
   "id": "be0b3ed2",
   "metadata": {},
   "outputs": [
    {
     "data": {
      "text/plain": [
       "Text(0, 0.5, 'Secondary Enrollment (%net)')"
      ]
     },
     "execution_count": 111,
     "metadata": {},
     "output_type": "execute_result"
    },
    {
     "data": {
      "image/png": "[encoded data removed]",
      "text/plain": [
       "<Figure size 432x288 with 1 Axes>"
      ]
     },
     "metadata": {
      "needs_background": "light"
     },
     "output_type": "display_data"
    }
   ],
   "source": [
    "plt.scatter(theactualfinalfinallist['PrimaryCompletion'], theactualfinalfinallist['SecondaryEnrollment'])\n",
    "plt.title('Secondary Enrollment vs Primary Completion')\n",
    "plt.xlabel('Primary Completion (% of relevant age group)')\n",
    "plt.ylabel('Secondary Enrollment (%net)')\n"
   ]
  },
  {
   "cell_type": "code",
   "execution_count": null,
   "id": "2525365e",
   "metadata": {},
   "outputs": [],
   "source": []
  }
 ],
 "metadata": {
  "kernelspec": {
   "display_name": "Python 3 (ipykernel)",
   "language": "python",
   "name": "python3"
  },
  "language_info": {
   "codemirror_mode": {
    "name": "ipython",
    "version": 3
   },
   "file_extension": ".py",
   "mimetype": "text/x-python",
   "name": "python",
   "nbconvert_exporter": "python",
   "pygments_lexer": "ipython3",
   "version": "3.9.7"
  }
 },
 "nbformat": 4,
 "nbformat_minor": 5
}
